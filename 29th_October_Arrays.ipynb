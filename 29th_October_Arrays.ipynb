{
 "cells": [
  {
   "cell_type": "markdown",
   "id": "766971f3-abd5-4b45-bdc3-5f03e8c79a53",
   "metadata": {},
   "source": [
    "# Question 1"
   ]
  },
  {
   "cell_type": "markdown",
   "id": "51417d96-4243-4e76-a857-09432aad1ee0",
   "metadata": {},
   "source": [
    "Given an array, check if it contains any duplicates or not"
   ]
  },
  {
   "cell_type": "code",
   "execution_count": 9,
   "id": "f22ead25-6037-49ff-8d87-75d8b071c94a",
   "metadata": {},
   "outputs": [
    {
     "name": "stdout",
     "output_type": "stream",
     "text": [
      "True\n"
     ]
    }
   ],
   "source": [
    "## Function defination\n",
    "def duplicate_arr(arr) :\n",
    "    for i in arr :\n",
    "        if i in arr :\n",
    "            return True\n",
    "    return False\n",
    "\n",
    "## Driver Code\n",
    "arr = [1,2,4,2,5,9]\n",
    "print(duplicate_arr(arr))"
   ]
  },
  {
   "cell_type": "code",
   "execution_count": null,
   "id": "c3a10766-a737-409d-b87c-1a66a60e6aef",
   "metadata": {},
   "outputs": [],
   "source": []
  },
  {
   "cell_type": "markdown",
   "id": "f145899d-6f94-4cbf-bcc2-3b34c2c4e294",
   "metadata": {},
   "source": [
    "# Question 2"
   ]
  },
  {
   "cell_type": "markdown",
   "id": "2468fa91-6961-4701-a59d-f71a3ffca8f4",
   "metadata": {},
   "source": [
    "Given an array and an integer k, rotate the array to the right by k steps"
   ]
  },
  {
   "cell_type": "code",
   "execution_count": 10,
   "id": "46c6d67e-c15a-4ad1-af18-b5456f32e63d",
   "metadata": {},
   "outputs": [
    {
     "name": "stdout",
     "output_type": "stream",
     "text": [
      "[5, 6, 7, 1, 2, 3, 4]\n"
     ]
    }
   ],
   "source": [
    "## Function Defination\n",
    "## inplementing function\n",
    "def rightrotate(arr,k) :\n",
    "    n = len(arr)\n",
    "    ## in-case k is grater than the length of array\n",
    "    k = k % n\n",
    "    ## creating new array to show the result\n",
    "    rotate = arr[-k:] + arr[:-k]\n",
    "    \n",
    "    ## returning the rotated array\n",
    "    return rotate\n",
    "\n",
    "## Driver Code\n",
    "arr = [1,2,3,4,5,6,7] \n",
    "k = 3\n",
    "result = rightrotate(arr,k)\n",
    "print(result)"
   ]
  },
  {
   "cell_type": "code",
   "execution_count": null,
   "id": "22f5fef0-8836-45bc-bc73-583820d01a28",
   "metadata": {},
   "outputs": [],
   "source": []
  },
  {
   "cell_type": "markdown",
   "id": "e2d74528-a3df-467a-bf87-e08db927a3e9",
   "metadata": {},
   "source": [
    "# Question 3"
   ]
  },
  {
   "cell_type": "markdown",
   "id": "af74da62-8800-41b6-acc2-a994f963eefc",
   "metadata": {},
   "source": [
    "Reverse the given array in-place, means without using any extra data structure"
   ]
  },
  {
   "cell_type": "code",
   "execution_count": 11,
   "id": "1ef4bc38-7156-4101-9d00-689a151c2d28",
   "metadata": {},
   "outputs": [
    {
     "name": "stdout",
     "output_type": "stream",
     "text": [
      "[12, 9, 7, 5, 4, 2]\n"
     ]
    }
   ],
   "source": [
    "## Function Defination\n",
    "def reverse_array(arr) :\n",
    "    start = 0\n",
    "    end = len(arr) -1\n",
    "    while start < end :\n",
    "        arr[start], arr[end] = arr[end], arr[start] ## for reversing the order of the values in the \n",
    "        start +=1\n",
    "        end -=1\n",
    "    return arr\n",
    "\n",
    "## Driver code\n",
    "arr = [2,4,5,7,9,12]\n",
    "result = reverse_array(arr)\n",
    "print(result)"
   ]
  },
  {
   "cell_type": "code",
   "execution_count": null,
   "id": "7bb47cd7-819c-4513-9a54-8aa30f0132de",
   "metadata": {},
   "outputs": [],
   "source": []
  },
  {
   "cell_type": "markdown",
   "id": "ed9d9e1d-fe78-46ce-b0f9-a59e9bcb7d5b",
   "metadata": {},
   "source": [
    "# Question 4"
   ]
  },
  {
   "cell_type": "markdown",
   "id": "020b04bf-160b-4a26-9996-96af14494697",
   "metadata": {},
   "source": [
    "Given an array of integers, find the maximum element in an array"
   ]
  },
  {
   "cell_type": "code",
   "execution_count": 12,
   "id": "498dad25-32ad-4ec6-84c9-354d94bc1be4",
   "metadata": {},
   "outputs": [
    {
     "name": "stdout",
     "output_type": "stream",
     "text": [
      "20\n"
     ]
    }
   ],
   "source": [
    "## Function defination\n",
    "def max_element(arr, n) :\n",
    "    max_value = arr[0]\n",
    "    for i in range(0, n) : ## starting the loop from first index to last index\n",
    "        if arr[i] > max_value :\n",
    "            max_value = arr[i]\n",
    "    return max_value ## for returning the max value from the array\n",
    "\n",
    "\n",
    "## Driver code\n",
    "arr = [10, 5, 20, 8, 15]\n",
    "n = len(arr)\n",
    "result = max_element(arr, n)\n",
    "print(result)"
   ]
  },
  {
   "cell_type": "code",
   "execution_count": null,
   "id": "d6c59a4b-2508-4b90-ae66-c51fe543355d",
   "metadata": {},
   "outputs": [],
   "source": []
  },
  {
   "cell_type": "markdown",
   "id": "09979c0a-8142-4b4e-9391-ca7bcf1e9df6",
   "metadata": {},
   "source": [
    "# Question 5"
   ]
  },
  {
   "cell_type": "markdown",
   "id": "0714a0a1-2737-4a54-8807-4a13a88f0032",
   "metadata": {},
   "source": [
    "Given a sorted array, remove the duplicate element without using any extra data structure"
   ]
  },
  {
   "cell_type": "code",
   "execution_count": 13,
   "id": "1a015efb-5d3c-4b8d-89bf-798cb355e9db",
   "metadata": {},
   "outputs": [
    {
     "name": "stdout",
     "output_type": "stream",
     "text": [
      "[1, 2, 3, 4, 5]\n"
     ]
    }
   ],
   "source": [
    "## Function defination\n",
    "def sorted_array(arr) :\n",
    "    return list(set(arr))\n",
    "\n",
    "## Driver code\n",
    "arr = [1, 1, 2, 2, 2, 3, 3, 4, 4, 4, 5, 5]\n",
    "result = sorted_array(arr)\n",
    "print(result)"
   ]
  },
  {
   "cell_type": "code",
   "execution_count": null,
   "id": "1b29144f-53c2-47f9-90cd-3c6ba6fae5ad",
   "metadata": {},
   "outputs": [],
   "source": []
  }
 ],
 "metadata": {
  "kernelspec": {
   "display_name": "Python 3 (ipykernel)",
   "language": "python",
   "name": "python3"
  },
  "language_info": {
   "codemirror_mode": {
    "name": "ipython",
    "version": 3
   },
   "file_extension": ".py",
   "mimetype": "text/x-python",
   "name": "python",
   "nbconvert_exporter": "python",
   "pygments_lexer": "ipython3",
   "version": "3.10.8"
  }
 },
 "nbformat": 4,
 "nbformat_minor": 5
}
